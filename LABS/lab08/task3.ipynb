{
 "cells": [
  {
   "cell_type": "code",
   "execution_count": 2,
   "id": "ab827422",
   "metadata": {},
   "outputs": [],
   "source": [
    "from pgmpy.models import DiscreteBayesianNetwork\n",
    "from pgmpy.factors.discrete import TabularCPD\n",
    "from pgmpy.inference import VariableElimination\n",
    "\n",
    "model = DiscreteBayesianNetwork([('Disease', 'Fever'), \n",
    "                         ('Disease', 'Cough'), \n",
    "                         ('Disease', 'Fatigue'), \n",
    "                         ('Disease', 'Chills')])\n"
   ]
  },
  {
   "cell_type": "code",
   "execution_count": 3,
   "id": "37847094",
   "metadata": {},
   "outputs": [],
   "source": [
    "\n",
    "cpd_disease = TabularCPD(variable='Disease', variable_card=2, values=[[0.3], [0.7]], state_names={'Disease': ['Flu', 'Cold']})\n",
    "cpd_fever = TabularCPD(variable='Fever', variable_card=2, \n",
    "                       values=[[0.9, 0.5], [0.1, 0.5]], \n",
    "                       evidence=['Disease'], evidence_card=[2],\n",
    "                       state_names={'Fever': ['Yes', 'No'], 'Disease': ['Flu', 'Cold']})\n",
    "cpd_cough = TabularCPD(variable='Cough', variable_card=2, \n",
    "                       values=[[0.8, 0.6], [0.2, 0.4]], \n",
    "                       evidence=['Disease'], evidence_card=[2],\n",
    "                       state_names={'Cough': ['Yes', 'No'], 'Disease': ['Flu', 'Cold']})\n"
   ]
  },
  {
   "cell_type": "code",
   "execution_count": 4,
   "id": "3406e815",
   "metadata": {},
   "outputs": [],
   "source": [
    "cpd_fatigue = TabularCPD(variable='Fatigue', variable_card=2, \n",
    "                         values=[[0.7, 0.3], [0.3, 0.7]], \n",
    "                         evidence=['Disease'], evidence_card=[2],\n",
    "                         state_names={'Fatigue': ['Yes', 'No'], 'Disease': ['Flu', 'Cold']})\n",
    "cpd_chills = TabularCPD(variable='Chills', variable_card=2, \n",
    "                        values=[[0.6, 0.4], [0.4, 0.6]], \n",
    "                        evidence=['Disease'], evidence_card=[2],\n",
    "                        state_names={'Chills': ['Yes', 'No'], 'Disease': ['Flu', 'Cold']})\n",
    "\n"
   ]
  },
  {
   "cell_type": "code",
   "execution_count": 5,
   "id": "4a9034ae",
   "metadata": {},
   "outputs": [],
   "source": [
    "model.add_cpds(cpd_disease, cpd_fever, cpd_cough, cpd_fatigue, cpd_chills)\n",
    "infer = VariableElimination(model)\n"
   ]
  },
  {
   "cell_type": "code",
   "execution_count": 6,
   "id": "b1999c93",
   "metadata": {},
   "outputs": [],
   "source": [
    "\n",
    "q1 = infer.query(variables=['Disease'], evidence={'Fever': 'Yes', 'Cough': 'Yes'})\n",
    "q2 = infer.query(variables=['Disease'], evidence={'Fever': 'Yes', 'Cough': 'Yes', 'Chills': 'Yes'})\n",
    "q3 = infer.query(variables=['Fatigue'], evidence={'Disease': 'Flu'})\n",
    "\n",
    "\n"
   ]
  },
  {
   "cell_type": "code",
   "execution_count": 7,
   "id": "f9f027de",
   "metadata": {},
   "outputs": [
    {
     "name": "stdout",
     "output_type": "stream",
     "text": [
      "+---------------+----------------+\n",
      "| Disease       |   phi(Disease) |\n",
      "+===============+================+\n",
      "| Disease(Flu)  |         0.5070 |\n",
      "+---------------+----------------+\n",
      "| Disease(Cold) |         0.4930 |\n",
      "+---------------+----------------+\n",
      "+---------------+----------------+\n",
      "| Disease       |   phi(Disease) |\n",
      "+===============+================+\n",
      "| Disease(Flu)  |         0.6067 |\n",
      "+---------------+----------------+\n",
      "| Disease(Cold) |         0.3933 |\n",
      "+---------------+----------------+\n",
      "+--------------+----------------+\n",
      "| Fatigue      |   phi(Fatigue) |\n",
      "+==============+================+\n",
      "| Fatigue(Yes) |         0.7000 |\n",
      "+--------------+----------------+\n",
      "| Fatigue(No)  |         0.3000 |\n",
      "+--------------+----------------+\n"
     ]
    }
   ],
   "source": [
    "print(q1)\n",
    "print(q2)\n",
    "print(q3)"
   ]
  }
 ],
 "metadata": {
  "kernelspec": {
   "display_name": "Python 3",
   "language": "python",
   "name": "python3"
  },
  "language_info": {
   "codemirror_mode": {
    "name": "ipython",
    "version": 3
   },
   "file_extension": ".py",
   "mimetype": "text/x-python",
   "name": "python",
   "nbconvert_exporter": "python",
   "pygments_lexer": "ipython3",
   "version": "3.12.7"
  }
 },
 "nbformat": 4,
 "nbformat_minor": 5
}
