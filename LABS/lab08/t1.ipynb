{
 "cells": [
  {
   "cell_type": "code",
   "execution_count": 1,
   "id": "930851d3",
   "metadata": {},
   "outputs": [],
   "source": [
    "def prob_red():\n",
    "    return 26 / 52\n",
    "\n",
    "def prob_heart_given_red():\n",
    "    return 13 / 26\n",
    "\n",
    "def prob_diamond_given_face():\n",
    "    return 3 / 12\n",
    "\n"
   ]
  },
  {
   "cell_type": "code",
   "execution_count": 2,
   "id": "114ed443",
   "metadata": {},
   "outputs": [],
   "source": [
    "\n",
    "def prob_spade_or_queen_given_face():\n",
    "    spade_faces = 3\n",
    "    queens = 4\n",
    "    queen_spade = 1\n",
    "    total = 12\n",
    "    return (spade_faces + queens - queen_spade) / total\n"
   ]
  },
  {
   "cell_type": "code",
   "execution_count": 3,
   "id": "4ce01544",
   "metadata": {},
   "outputs": [
    {
     "name": "stdout",
     "output_type": "stream",
     "text": [
      "P(Red): 0.5\n",
      "P(Heart | Red): 0.5\n",
      "P(Diamond | Face): 0.25\n",
      "P(Spade or Queen | Face): 0.5\n"
     ]
    }
   ],
   "source": [
    "\n",
    "print(\"P(Red):\", prob_red())\n",
    "print(\"P(Heart | Red):\", prob_heart_given_red())\n",
    "print(\"P(Diamond | Face):\", prob_diamond_given_face())\n",
    "print(\"P(Spade or Queen | Face):\", prob_spade_or_queen_given_face())"
   ]
  }
 ],
 "metadata": {
  "kernelspec": {
   "display_name": "Python 3",
   "language": "python",
   "name": "python3"
  },
  "language_info": {
   "codemirror_mode": {
    "name": "ipython",
    "version": 3
   },
   "file_extension": ".py",
   "mimetype": "text/x-python",
   "name": "python",
   "nbconvert_exporter": "python",
   "pygments_lexer": "ipython3",
   "version": "3.12.7"
  }
 },
 "nbformat": 4,
 "nbformat_minor": 5
}
