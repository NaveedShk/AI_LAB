{
 "cells": [
  {
   "cell_type": "code",
   "execution_count": 3,
   "id": "f01781f0",
   "metadata": {},
   "outputs": [],
   "source": [
    "from pgmpy.models import DiscreteBayesianNetwork\n",
    "from pgmpy.factors.discrete import TabularCPD\n",
    "from pgmpy.inference import VariableElimination\n",
    "\n",
    "model = DiscreteBayesianNetwork([('I', 'G'), ('S', 'G'), ('D', 'G'), ('G', 'P')])\n"
   ]
  },
  {
   "cell_type": "code",
   "execution_count": 4,
   "id": "e76b9f1d",
   "metadata": {},
   "outputs": [],
   "source": [
    "\n",
    "\n",
    "cpd_i = TabularCPD(variable='I', variable_card=2, values=[[0.7], [0.3]])\n",
    "cpd_s = TabularCPD(variable='S', variable_card=2, values=[[0.6], [0.4]])\n",
    "cpd_d = TabularCPD(variable='D', variable_card=2, values=[[0.4], [0.6]])\n",
    "\n"
   ]
  },
  {
   "cell_type": "code",
   "execution_count": 6,
   "id": "c86aef7f",
   "metadata": {},
   "outputs": [],
   "source": [
    "cpd_g = TabularCPD(\n",
    "    variable='G', variable_card=3,\n",
    "    values=[\n",
    "        [0.8, 0.7, 0.6, 0.6, 0.5, 0.4, 0.5, 0.4],\n",
    "        [0.15, 0.2, 0.3, 0.3, 0.3, 0.4, 0.3, 0.3],\n",
    "        [0.05, 0.1, 0.1, 0.1, 0.2, 0.2, 0.2, 0.3]\n",
    "    ],\n",
    "    evidence=['I', 'S', 'D'],\n",
    "    evidence_card=[2, 2, 2]\n",
    ")\n"
   ]
  },
  {
   "cell_type": "code",
   "execution_count": 7,
   "id": "2316ded4",
   "metadata": {},
   "outputs": [],
   "source": [
    "\n",
    "cpd_p = TabularCPD(\n",
    "    variable='P', variable_card=2,\n",
    "    values=[\n",
    "        [0.95, 0.80, 0.50],\n",
    "        [0.05, 0.20, 0.50]\n",
    "    ],\n",
    "    evidence=['G'],\n",
    "    evidence_card=[3]\n",
    ")\n",
    "\n"
   ]
  },
  {
   "cell_type": "code",
   "execution_count": 8,
   "id": "2f02d3fc",
   "metadata": {},
   "outputs": [],
   "source": [
    "model.add_cpds(cpd_i, cpd_s, cpd_d, cpd_g, cpd_p)\n",
    "\n",
    "infer = VariableElimination(model)\n",
    "\n",
    "q1 = infer.query(variables=['P'], evidence={'S': 0, 'D': 0})\n",
    "q2 = infer.query(variables=['I'], evidence={'P': 0})\n",
    "\n"
   ]
  },
  {
   "cell_type": "code",
   "execution_count": 9,
   "id": "66e05358",
   "metadata": {},
   "outputs": [
    {
     "name": "stdout",
     "output_type": "stream",
     "text": [
      "P(Pass | StudyHours=Sufficient, Difficulty=Hard):\n",
      "+------+----------+\n",
      "| P    |   phi(P) |\n",
      "+======+==========+\n",
      "| P(0) |   0.8780 |\n",
      "+------+----------+\n",
      "| P(1) |   0.1220 |\n",
      "+------+----------+\n",
      "P(Intelligence=High | Pass=Yes):\n",
      "+------+----------+\n",
      "| I    |   phi(I) |\n",
      "+======+==========+\n",
      "| I(0) |   0.7191 |\n",
      "+------+----------+\n",
      "| I(1) |   0.2809 |\n",
      "+------+----------+\n"
     ]
    }
   ],
   "source": [
    "\n",
    "print(\"P(Pass | StudyHours=Sufficient, Difficulty=Hard):\")\n",
    "print(q1)\n",
    "print(\"P(Intelligence=High | Pass=Yes):\")\n",
    "print(q2)"
   ]
  }
 ],
 "metadata": {
  "kernelspec": {
   "display_name": "Python 3",
   "language": "python",
   "name": "python3"
  },
  "language_info": {
   "codemirror_mode": {
    "name": "ipython",
    "version": 3
   },
   "file_extension": ".py",
   "mimetype": "text/x-python",
   "name": "python",
   "nbconvert_exporter": "python",
   "pygments_lexer": "ipython3",
   "version": "3.12.7"
  }
 },
 "nbformat": 4,
 "nbformat_minor": 5
}
