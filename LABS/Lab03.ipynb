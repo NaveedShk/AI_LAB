{
 "cells": [
  {
   "cell_type": "markdown",
   "metadata": {},
   "source": [
    "LAB 03"
   ]
  },
  {
   "cell_type": "markdown",
   "metadata": {},
   "source": [
    "TASK 01\n"
   ]
  },
  {
   "cell_type": "markdown",
   "metadata": {},
   "source": [
    "Depth First search"
   ]
  },
  {
   "cell_type": "code",
   "execution_count": null,
   "metadata": {
    "vscode": {
     "languageId": "plaintext"
    }
   },
   "outputs": [],
   "source": [
    "class DFS_Agent:\n",
    "    def __init__(self, graph, start, goal):\n",
    "        self.graph = graph\n",
    "        self.start = start\n",
    "        self.goal = goal\n",
    "        self.visited = set()\n",
    "\n",
    "    def dfs(self, node):\n",
    "        if node == self.goal:\n",
    "            return [node]\n",
    "        self.visited.add(node)\n",
    "        for neighbor in self.graph[node]:\n",
    "            if neighbor not in self.visited:\n",
    "                path = self.dfs(neighbor)\n",
    "                if path:\n",
    "                    return [node] + path\n",
    "        return None\n",
    "\n",
    "    def find_goal(self):\n",
    "        return self.dfs(self.start)\n",
    "\n",
    "\n",
    "graph = {\n",
    "    'A': ['B', 'C'],\n",
    "    'B': ['D', 'E'],\n",
    "    'C': ['F'],\n",
    "    'D': [],\n",
    "    'E': ['G', 'H'],\n",
    "    'F': [],\n",
    "    'G': [],\n",
    "    'H': []\n",
    "}\n",
    "agent = DFS_Agent(graph, 'A', 'G')\n",
    "path = agent.find_goal()\n",
    "print(\"DFS path:\", path)\n"
   ]
  },
  {
   "cell_type": "markdown",
   "metadata": {},
   "source": [
    "Depth Limited Search"
   ]
  },
  {
   "cell_type": "code",
   "execution_count": null,
   "metadata": {
    "vscode": {
     "languageId": "plaintext"
    }
   },
   "outputs": [],
   "source": [
    "class DLS_Agent:\n",
    "    def __init__(self, graph, start, goal, limit):\n",
    "        self.graph = graph\n",
    "        self.start = start\n",
    "        self.goal = goal\n",
    "        self.limit = limit\n",
    "\n",
    "    def dls(self, node, depth):\n",
    "        if depth > self.limit:\n",
    "            return None\n",
    "        if node == self.goal:\n",
    "            return [node]\n",
    "        for neighbor in self.graph[node]:\n",
    "            path = self.dls(neighbor, depth + 1)\n",
    "            if path:\n",
    "                return [node] + path\n",
    "        return None\n",
    "\n",
    "    def find_goal(self):\n",
    "        return self.dls(self.start, 0)\n",
    "\n",
    "\n",
    "graph = {\n",
    "    'A': ['B', 'C'],\n",
    "    'B': ['D', 'E'],\n",
    "    'C': ['F'],\n",
    "    'D': [],\n",
    "    'E': ['G', 'H'],\n",
    "    'F': [],\n",
    "    'G': [],\n",
    "    'H': []\n",
    "}\n",
    "agent = DLS_Agent(graph, 'A', 'G', 3)\n",
    "path = agent.find_goal()\n",
    "print(\"DLS path:\", path)\n"
   ]
  },
  {
   "cell_type": "markdown",
   "metadata": {},
   "source": [
    "Unform Cost Search "
   ]
  },
  {
   "cell_type": "code",
   "execution_count": null,
   "metadata": {
    "vscode": {
     "languageId": "plaintext"
    }
   },
   "outputs": [],
   "source": [
    "import heapq\n",
    "\n",
    "class UCS_Agent:\n",
    "    def __init__(self, graph, start, goal):\n",
    "        self.graph = graph\n",
    "        self.start = start\n",
    "        self.goal = goal\n",
    "\n",
    "    def ucs(self):\n",
    "        priority_queue = [(0, self.start, [])]\n",
    "        visited = set()\n",
    "        \n",
    "        while priority_queue:\n",
    "            cost, node, path = heapq.heappop(priority_queue)\n",
    "            if node in visited:\n",
    "                continue\n",
    "            visited.add(node)\n",
    "            path = path + [node]\n",
    "            \n",
    "            if node == self.goal:\n",
    "                return path, cost\n",
    "            \n",
    "            for neighbor, weight in self.graph.get(node, []):\n",
    "                if neighbor not in visited:\n",
    "                    heapq.heappush(priority_queue, (cost + weight, neighbor, path))\n",
    "                    \n",
    "        return None, float('inf')\n",
    "\n",
    "    def find_goal(self):\n",
    "        return self.ucs()\n",
    "\n",
    "\n",
    "graph = {\n",
    "    'A': [('B', 1), ('C', 4)],\n",
    "    'B': [('D', 5), ('E', 2)],\n",
    "    'C': [('F', 3)],\n",
    "    'D': [],\n",
    "    'E': [('G', 1), ('H', 3)],\n",
    "    'F': [],\n",
    "    'G': [],\n",
    "    'H': []\n",
    "}\n",
    "agent = UCS_Agent(graph, 'A', 'G')\n",
    "path, cost = agent.find_goal()\n",
    "print(\"UCS path:\", path, \"with cost:\", cost)\n"
   ]
  },
  {
   "cell_type": "markdown",
   "metadata": {},
   "source": [
    "Task 02 :"
   ]
  },
  {
   "cell_type": "code",
   "execution_count": null,
   "metadata": {
    "vscode": {
     "languageId": "plaintext"
    }
   },
   "outputs": [],
   "source": [
    "def tsp(graph):\n",
    "    def permutations(arr, start=0):\n",
    "        if start == len(arr) - 1:\n",
    "            yield arr[:]\n",
    "        else:\n",
    "            for i in range(start, len(arr)):\n",
    "                arr[start], arr[i] = arr[i], arr[start]\n",
    "                yield from permutations(arr, start + 1)\n",
    "                arr[start], arr[i] = arr[i], arr[start]\n",
    "\n",
    "    cities = list(graph.keys())\n",
    "    min_path = float('inf')\n",
    "    best_route = None\n",
    "    \n",
    "    for perm in permutations(cities):\n",
    "        current_cost = 0\n",
    "        valid_path = True\n",
    "        \n",
    "        for i in range(len(perm) - 1):\n",
    "            if perm[i+1] in graph[perm[i]]:\n",
    "                current_cost += graph[perm[i]][perm[i+1]]\n",
    "            else:\n",
    "                valid_path = False\n",
    "                break\n",
    "        \n",
    "        if valid_path and perm[-1] in graph[perm[0]]:\n",
    "            current_cost += graph[perm[-1]][perm[0]]\n",
    "            if current_cost < min_path:\n",
    "                min_path = current_cost\n",
    "                best_route = perm\n",
    "    \n",
    "    return best_route, min_path\n",
    "\n",
    "# Graph represenatation \n",
    "graph = {\n",
    "    1: {2: 10, 3: 15, 4: 20},\n",
    "    2: {1: 10, 3: 35, 4: 25},\n",
    "    3: {1: 15, 2: 35, 4: 30},\n",
    "    4: {1: 20, 2: 25, 3: 30}\n",
    "}\n",
    "\n",
    "best_route, min_distance = tsp(graph)\n",
    "print(\"Shortest Route:\", best_route)\n",
    "print(\"Minimum Distance:\", min_distance)\n"
   ]
  },
  {
   "cell_type": "markdown",
   "metadata": {},
   "source": [
    "TASK 03 "
   ]
  },
  {
   "cell_type": "markdown",
   "metadata": {},
   "source": [
    "IDDFS"
   ]
  },
  {
   "cell_type": "code",
   "execution_count": null,
   "metadata": {
    "vscode": {
     "languageId": "plaintext"
    }
   },
   "outputs": [],
   "source": [
    "def depth_limited_search(node, target, limit):\n",
    "    if node == target:\n",
    "        return True\n",
    "    if limit <= 0:\n",
    "        return False\n",
    "    for neighbor in node.neighbors:\n",
    "        if depth_limited_search(neighbor, target, limit - 1):\n",
    "            return True\n",
    "    return False\n",
    "\n",
    "def iterative_deepening_dfs(root, target):\n",
    "    depth = 0\n",
    "    while True:\n",
    "        if depth_limited_search(root, target, depth):\n",
    "            return True\n",
    "        depth += 1\n"
   ]
  },
  {
   "cell_type": "markdown",
   "metadata": {},
   "source": [
    "Bidirectional Search"
   ]
  },
  {
   "cell_type": "code",
   "execution_count": null,
   "metadata": {
    "vscode": {
     "languageId": "plaintext"
    }
   },
   "outputs": [],
   "source": [
    "from collections import deque\n",
    "\n",
    "def bidirectional_search(start, goal):\n",
    "    if start == goal:\n",
    "        return True\n",
    "    \n",
    "    frontier_start = deque([start])\n",
    "    frontier_goal = deque([goal])\n",
    "    visited_start = {start}\n",
    "    visited_goal = {goal}\n",
    "    \n",
    "    while frontier_start and frontier_goal:\n",
    "        if search_step(frontier_start, visited_start, visited_goal):\n",
    "            return True\n",
    "        if search_step(frontier_goal, visited_goal, visited_start):\n",
    "            return True\n",
    "    return False\n",
    "\n",
    "def search_step(frontier, visited, other_visited):\n",
    "    current_node = frontier.popleft()\n",
    "    for neighbor in current_node.neighbors:\n",
    "        if neighbor in other_visited:\n",
    "            return True\n",
    "        if neighbor not in visited:\n",
    "            visited.add(neighbor)\n",
    "            frontier.append(neighbor)\n",
    "    return False\n"
   ]
  }
 ],
 "metadata": {
  "language_info": {
   "name": "python"
  }
 },
 "nbformat": 4,
 "nbformat_minor": 2
}
